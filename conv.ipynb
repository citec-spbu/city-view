{
 "cells": [
  {
   "cell_type": "code",
   "execution_count": 14,
   "metadata": {},
   "outputs": [
    {
     "name": "stderr",
     "output_type": "stream",
     "text": [
      "C:\\Users\\Ven\\AppData\\Local\\Temp\\ipykernel_7700\\746793276.py:41: DtypeWarning: Columns (5,8,13) have mixed types. Specify dtype option on import or set low_memory=False.\n",
      "  edgelist = pd.read_csv(edgelist_file)\n"
     ]
    }
   ],
   "source": [
    "import networkx as nx\n",
    "import pandas as pd\n",
    "import geopandas as gpd\n",
    "from shapely.geometry import Point, LineString\n",
    "from shapely.wkt import loads\n",
    "\n",
    "# 文件路径\n",
    "nodelist_file = 'nodelist_upd.csv'\n",
    "edgelist_file = 'edgelist_upd.csv'\n",
    "path_file = 'path_upd.csv'\n",
    "poi_file = 'poi_upd.csv'\n",
    "\n",
    "# 创建图\n",
    "G = nx.MultiDiGraph()\n",
    "\n",
    "# 读取并添加节点 (nodelist 和 poi_list)\n",
    "nodelist = pd.read_csv(nodelist_file)\n",
    "for index, row in nodelist.iterrows():\n",
    "    geom = loads(row['geometry'])\n",
    "    row_data = row.to_dict()\n",
    "    row_data.pop('x', None)  # 移除 'x'\n",
    "    row_data.pop('y', None)  # 移除 'y'\n",
    "    G.add_node(row['id'], x=geom.x, y=geom.y, **row_data)\n",
    "\n",
    "poi_list = pd.read_csv(poi_file)\n",
    "for index, row in poi_list.iterrows():\n",
    "    geom = loads(row['geometry'])\n",
    "    row_data = row.to_dict()\n",
    "    row_data.pop('x', None)  # 移除 'x'\n",
    "    row_data.pop('y', None)  # 移除 'y'\n",
    "    G.add_node(row['osmid'], x=geom.x, y=geom.y, poi=True, **row_data)\n",
    "\n",
    "# 从path_upd.csv中添加交点作为新节点\n",
    "path_data = pd.read_csv(path_file)\n",
    "for index, row in path_data.iterrows():\n",
    "    geom = loads(row['geometry'])\n",
    "    # 假设交点在线段的末端\n",
    "    G.add_node(f\"cross_{index}\", x=geom.coords[-1][0], y=geom.coords[-1][1], path=True)\n",
    "\n",
    "# 读取并添加边 (edgelist 和 path_data)\n",
    "edgelist = pd.read_csv(edgelist_file)\n",
    "for index, row in edgelist.iterrows():\n",
    "    G.add_edge(row['start_node'], row['end_node'], **row.to_dict())\n",
    "\n",
    "for index, row in path_data.iterrows():\n",
    "    # 连接路径的起点和交点\n",
    "    G.add_edge(row['start_node'], f\"cross_{index}\", **row.to_dict())\n",
    "\n",
    "# 节点转换为GeoDataFrame\n",
    "node_data = []\n",
    "for node, data in G.nodes(data=True):\n",
    "    if 'x' in data and 'y' in data:\n",
    "        geom = Point(data['x'], data['y'])\n",
    "        node_data.append({**data, 'geometry': geom})\n",
    "node_gdf = gpd.GeoDataFrame(node_data)\n",
    "\n",
    "# 边转换为GeoDataFrame\n",
    "edge_data = []\n",
    "for start_node, end_node, data in G.edges(data=True):\n",
    "    if 'geometry' in data and isinstance(data['geometry'], str):\n",
    "        try:\n",
    "            geom = loads(data['geometry'])\n",
    "        except Exception:\n",
    "            continue  # 如果无法解析几何数据，跳过该边\n",
    "    else:\n",
    "        if 'x' in G.nodes[start_node] and 'y' in G.nodes[start_node] and 'x' in G.nodes[end_node] and 'y' in G.nodes[end_node]:\n",
    "            start_geom = Point(G.nodes[start_node]['x'], G.nodes[start_node]['y'])\n",
    "            end_geom = Point(G.nodes[end_node]['x'], G.nodes[end_node]['y'])\n",
    "            geom = LineString([start_geom, end_geom])\n",
    "        else:\n",
    "            continue  # 跳过没有完整坐标的边\n",
    "    edge_data.append({**data, 'geometry': geom})\n",
    "edge_gdf = gpd.GeoDataFrame(edge_data)\n",
    "\n",
    "# 导出为GeoJSON\n",
    "node_gdf.to_file('nodes.geojson', driver='GeoJSON')\n",
    "edge_gdf.to_file('edges.geojson', driver='GeoJSON')\n"
   ]
  }
 ],
 "metadata": {
  "kernelspec": {
   "display_name": "base",
   "language": "python",
   "name": "python3"
  },
  "language_info": {
   "codemirror_mode": {
    "name": "ipython",
    "version": 3
   },
   "file_extension": ".py",
   "mimetype": "text/x-python",
   "name": "python",
   "nbconvert_exporter": "python",
   "pygments_lexer": "ipython3",
   "version": "3.10.9"
  }
 },
 "nbformat": 4,
 "nbformat_minor": 2
}
