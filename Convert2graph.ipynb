{
 "cells": [
  {
   "cell_type": "code",
   "execution_count": 2,
   "metadata": {},
   "outputs": [
    {
     "name": "stderr",
     "output_type": "stream",
     "text": [
      "C:\\Users\\Ven\\AppData\\Local\\Temp\\ipykernel_27808\\2933628707.py:7: DtypeWarning: Columns (5,8,13) have mixed types. Specify dtype option on import or set low_memory=False.\n",
      "  edgelist = pd.read_csv('edgelist_upd.csv')\n",
      "C:\\Users\\Ven\\AppData\\Local\\Temp\\ipykernel_27808\\2933628707.py:54: UserWarning: Column names longer than 10 characters will be truncated when saved to ESRI Shapefile.\n",
      "  edge_gdf.to_file(\"network_edges.shp\")\n"
     ]
    }
   ],
   "source": [
    "import pandas as pd\n",
    "import networkx as nx\n",
    "import geopandas as gpd\n",
    "from shapely.geometry import Point, LineString\n",
    "\n",
    "edgelist = pd.read_csv('edgelist_upd.csv')\n",
    "nodelist = pd.read_csv('nodelist_upd.csv')\n",
    "pathlist = pd.read_csv('path_upd.csv')\n",
    "poilist = pd.read_csv('poi_upd.csv')\n",
    "\n",
    "G = nx.Graph()\n",
    "\n",
    "for idx, row in nodelist.iterrows():\n",
    "    G.add_node(row['id'], **row.to_dict())\n",
    "\n",
    "for idx, row in poilist.iterrows():\n",
    "    G.add_node(row['osmid'], **row.to_dict())\n",
    "\n",
    "for idx, row in pathlist.iterrows():\n",
    "    G.add_node(row['start_node'], **row.to_dict())\n",
    "    G.add_node(row['end_node'], **row.to_dict())\n",
    "\n",
    "for idx, row in edgelist.iterrows():\n",
    "    G.add_edge(row['start_node'], row['end_node'], **row.to_dict())\n",
    "\n",
    "\n",
    "for idx, row in pathlist.iterrows():\n",
    "    G.add_edge(row['start_node'], row['end_node'], **row.to_dict())\n",
    "\n",
    "node_coordinates = {row['id']: (row['lon'], row['lat']) for idx, row in nodelist.iterrows()}\n",
    "\n",
    "\n",
    "edge_data = []\n",
    "for u, v, data in G.edges(data=True):\n",
    "    if u in node_coordinates and v in node_coordinates:\n",
    "        line = LineString([Point(node_coordinates[u]), Point(node_coordinates[v])])\n",
    "        data['geometry'] = line\n",
    "        edge_data.append(data)\n",
    "\n",
    "edge_gdf = gpd.GeoDataFrame(edge_data)\n",
    "\n",
    "edge_gdf.to_file(\"network_edges.geojson\", driver='GeoJSON')\n",
    "\n",
    "\n",
    "\n"
   ]
  }
 ],
 "metadata": {
  "kernelspec": {
   "display_name": "base",
   "language": "python",
   "name": "python3"
  },
  "language_info": {
   "codemirror_mode": {
    "name": "ipython",
    "version": 3
   },
   "file_extension": ".py",
   "mimetype": "text/x-python",
   "name": "python",
   "nbconvert_exporter": "python",
   "pygments_lexer": "ipython3",
   "version": "3.10.9"
  }
 },
 "nbformat": 4,
 "nbformat_minor": 2
}
