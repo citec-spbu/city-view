{
 "cells": [
  {
   "cell_type": "markdown",
   "metadata": {},
   "source": [
    "## Загрузка плагина в QGIS"
   ]
  },
  {
   "cell_type": "markdown",
   "metadata": {},
   "source": [
    "Для загрузки плагина следует клонировать удаленный репозиторий локально в папку с плагинами (обычно ее имя - `C:Users\\{имя пользователя}\\AppData\\Roaming\\QGIS\\QGIS3\\profiles\\default\\python\\plugins`). Далее открыть раздел с модулями в QGIS и поставить галочку видимости на Test plugin, после этого его иконка появится в QGIS и его можно будет открыть. "
   ]
  }
 ],
 "metadata": {
  "language_info": {
   "name": "python"
  }
 },
 "nbformat": 4,
 "nbformat_minor": 2
}
